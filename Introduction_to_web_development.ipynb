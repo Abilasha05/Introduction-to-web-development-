{
  "nbformat": 4,
  "nbformat_minor": 0,
  "metadata": {
    "colab": {
      "provenance": []
    },
    "kernelspec": {
      "name": "python3",
      "display_name": "Python 3"
    },
    "language_info": {
      "name": "python"
    }
  },
  "cells": [
    {
      "cell_type": "code",
      "execution_count": null,
      "metadata": {
        "id": "9JH5T5M7QgHO"
      },
      "outputs": [],
      "source": []
    },
    {
      "cell_type": "markdown",
      "source": [
        "#Introduction to web development (module 2) ASSIGNMENT\n",
        "\n"
      ],
      "metadata": {
        "id": "eMtJMLhRRHvx"
      }
    },
    {
      "cell_type": "code",
      "source": [],
      "metadata": {
        "id": "I7lcWYEL1UZt"
      },
      "execution_count": null,
      "outputs": []
    },
    {
      "cell_type": "markdown",
      "source": [
        " 1. Explain the main components of client-server architecture and their functions."
      ],
      "metadata": {
        "id": "7BPzode0pbwF"
      }
    },
    {
      "cell_type": "markdown",
      "source": [
        "The main components of client-server architecture are:\n",
        "\n",
        "-->CLIENT:\n",
        "- Client software is often designed for user interaction\n",
        "-Client typically rely on the server to provide data and services\n",
        "Function:\n",
        "- Its responsible for presenting the user interface, allowing users to interact with the application and send requests to the server\n",
        "- it receives and displays the responses from the server.\n",
        "\n",
        "--> SERVER:\n",
        "- Server software is designed for efficient resources management and service delivery\n",
        "- it is capable of handling multiple client requests.\n",
        "Functions:\n",
        "- it receives and process request from clients.\n",
        "- it retrieves the requested data.\n",
        "- it sends response back to the client\n",
        "\n",
        "-->NETWORK:\n",
        "- the client - server architecture relies over the performance of network.\n",
        "-various network protocol is been used, IP/TCP, HTTP, HTTPS,etc.,\n",
        "Function:\n",
        "- it enables the transmission of requests and responses between clients and servers\n",
        "-the network can be local area network(LAN), wide area network (WAN) or internet"
      ],
      "metadata": {
        "id": "22-Lg-W5scRv"
      }
    },
    {
      "cell_type": "markdown",
      "source": [
        "2. Discuss the various career paths available after completing a web development course?"
      ],
      "metadata": {
        "id": "7SKi_WAzz00O"
      }
    },
    {
      "cell_type": "markdown",
      "source": [
        "Career path after web development are:\n",
        "\n",
        "--> Front-End developer:\n",
        " > Focuses on the user interface and user experience (UI/UX) of websites and web applications.\n",
        "     > Uses HTML, CSS, Javascript to create interactive and visual appealing webpages.\n",
        "\n",
        "--> Back-End Developer:\n",
        "\n",
        "     > Responsible for creating the functionalities that the user interacts on the front-end.\n",
        "     > Handles Server-side logic, databases, and APIs.\n",
        "\n",
        "--> Full-Stack Developer:\n",
        "\n",
        "     > Skilled on both Front-end and Back-end Development.\n",
        "     > Handles all aspects of web development from designing the UI to managing the Server.\n",
        "--> Web Designer:\n",
        "\n",
        "     > Specializes in design and layout of websites.\n",
        "     > Uses design tools like Adobe photoshop, Figma.\n",
        "\n",
        "--> Web Administrator:\n",
        "\n",
        "     > Manages web servers and ensures website performance and security."
      ],
      "metadata": {
        "id": "TKmTiUWH0tET"
      }
    },
    {
      "cell_type": "markdown",
      "source": [
        "3. Describe the role of a web browser's developer tools in web development?"
      ],
      "metadata": {
        "id": "j2_aJAts1aSC"
      }
    },
    {
      "cell_type": "markdown",
      "source": [
        "The role of a web browser's developer tools in web development are:\n",
        "\n",
        "--> Inspecting Elements:\n",
        "\n",
        "   > It allows developers to access HTML Structure and CSS Styles.\n",
        "   > It Helps to identify layout issues and styling problems\n",
        "   > Enables real-time editing.\n",
        "--> Debugging javascript:\n",
        "\n",
        "   > Provides a console for viewing JavaScript errors and warnings.\n",
        "   > It allow developers to set breakpoints and step through code execution.\n",
        "   > Debugging and Troubleshooting of javascript functionality.\n",
        "--> Network Analysis:\n",
        "\n",
        "   > Displays information about network request and responses.\n",
        "   > Shows details about HTTP header, Request method and response time.\n",
        "   > It helps to identify slow-loading resources and optimize website performance.\n",
        "--> Performance Monitoring:\n",
        "\n",
        "   > It provide tools for measuring website performance, such as load time and rendering speed.\n",
        "   > Helps identify performance bottlenecks and optimize the code for faster loading.\n",
        "--> Storage Inspection:\n",
        "\n",
        "   > Allow developers to see the contents of local storage,cookies and indexed database.\n",
        "   > Issues related client-side data storage can be solved."
      ],
      "metadata": {
        "id": "8ZGJ0D0N2N0b"
      }
    },
    {
      "cell_type": "markdown",
      "source": [
        "4.What are the advantages using a version control system like Git in Development project?"
      ],
      "metadata": {
        "id": "pxYTcIF-2tHg"
      }
    },
    {
      "cell_type": "markdown",
      "source": [
        "Git, a popular version control system, offers numerous advantage for Development project:\n",
        "\n",
        "--> Collaboration:\n",
        "\n",
        "  > It enables multiple developers to work on the same project simultaneously without conflicts.\n",
        "  > Facilitates code sharing and merging.\n",
        "--> Version History:\n",
        "\n",
        "  > It provides a detailed history of code modifications.\n",
        "  > Makes finding bugs easier.\n",
        "  --> Branching and Merging:\n",
        "\n",
        "  > Allows developers to create separate branches for different features or bug fixes.\n",
        "  > Allows for experimentation without effecting the main codebase.\n",
        "--> Code backup and recovery:\n",
        "\n",
        "  > Provides a reliable backup of the codebase.\n",
        "  > Enables easy recovery of loss or corrupted files.\n",
        "--> Automation:\n",
        "\n",
        "  > Git can be integrated into automated build and deployment processes.\n",
        "  > This streamlines the development worklflow."
      ],
      "metadata": {
        "id": "CTpc8fO63t0q"
      }
    },
    {
      "cell_type": "markdown",
      "source": [
        "5. Compare and contrast a text editor and an IDE, highlighting their key features and uses.\n",
        "\n",
        "1.TEXT EDITORS:\n",
        "\n",
        " * Key Features:\n",
        "      > Basic text editing  capabilities.\n",
        "      > syntax highlighting for various programming languages.\n",
        "      > search and replace functionality.\n",
        "      > lightweight and fast.   \n",
        " * Uses:\n",
        "      > Editing simple code files, configuration files, or plain text documents.\n",
        "      > It can be used to make small code changes quickly.\n",
        " * Example:\n",
        "      > Notepad++\n",
        "      > sublime text\n",
        "2.IDEs(Integrated Development Environments):\n",
        "\n",
        " * Key Features:\n",
        "      > Code completion and intelligent suggestion.\n",
        "      > Debugging tools and profilers.\n",
        "      > Version control integration.\n",
        "      > Build Automation and testing tools.\n",
        "      > Database integration.\n",
        " * Uses:\n",
        "      > Developing complex software applications.\n",
        "      > Debugging and testing code.\n",
        "      > Managing large projetcs with multiple files and dependencies.\n",
        " * Example:\n",
        "      > Visual studio\n",
        "      > Pycharm"
      ],
      "metadata": {
        "id": "hDOZUH6mqsY1"
      }
    }
  ]
}